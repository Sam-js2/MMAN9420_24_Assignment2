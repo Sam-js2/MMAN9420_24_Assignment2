{
  "cells": [
    {
      "cell_type": "markdown",
      "metadata": {
        "id": "1lhHHLPAr-5a"
      },
      "source": [
        "# MMAN9420 -- Assignment 2\n",
        "\n",
        "Importing packages and making the figs folder -- has option to render in $\\LaTeX$ but doesn't work on google colab."
      ]
    },
    {
      "cell_type": "code",
      "execution_count": 9,
      "metadata": {
        "id": "7xs7KQopr-5c"
      },
      "outputs": [],
      "source": [
        "import numpy as np\n",
        "import pandas as pd\n",
        "import matplotlib.pyplot as plt\n",
        "import scipy\n",
        "from scipy import constants\n",
        "import os\n",
        "\n",
        "TeX_rendering = True\n",
        "\n",
        "if TeX_rendering:\n",
        "  try:\n",
        "    import google.colab\n",
        "    plt.rcParams.update({\n",
        "        \"text.usetex\": False,\n",
        "    })\n",
        "    print('No LaTeX on Google Colab!')\n",
        "  except:\n",
        "    plt.rcParams.update({\n",
        "      \"text.usetex\": True,\n",
        "      \"font.family\": \"serif\",\n",
        "      \"font.sans-serif\": \"Helvetica\",\n",
        "    })\n",
        "else:\n",
        "    plt.rcParams.update({\n",
        "      \"text.usetex\": False,\n",
        "  })"
      ]
    },
    {
      "cell_type": "markdown",
      "metadata": {},
      "source": [
        "## Test Piece Parameters\n",
        "\n",
        "This is a DataFrame where the index corresponds to the Sample Number minus One."
      ]
    },
    {
      "cell_type": "code",
      "execution_count": 10,
      "metadata": {},
      "outputs": [
        {
          "data": {
            "text/html": [
              "<div>\n",
              "<style scoped>\n",
              "    .dataframe tbody tr th:only-of-type {\n",
              "        vertical-align: middle;\n",
              "    }\n",
              "\n",
              "    .dataframe tbody tr th {\n",
              "        vertical-align: top;\n",
              "    }\n",
              "\n",
              "    .dataframe thead th {\n",
              "        text-align: right;\n",
              "    }\n",
              "</style>\n",
              "<table border=\"1\" class=\"dataframe\">\n",
              "  <thead>\n",
              "    <tr style=\"text-align: right;\">\n",
              "      <th></th>\n",
              "      <th>length</th>\n",
              "      <th>Area</th>\n",
              "      <th>thickness</th>\n",
              "      <th>width</th>\n",
              "      <th>Sample Length</th>\n",
              "    </tr>\n",
              "  </thead>\n",
              "  <tbody>\n",
              "    <tr>\n",
              "      <th>0</th>\n",
              "      <td>65.3</td>\n",
              "      <td>20.8000</td>\n",
              "      <td>1.60</td>\n",
              "      <td>13.00</td>\n",
              "      <td>125.3</td>\n",
              "    </tr>\n",
              "    <tr>\n",
              "      <th>1</th>\n",
              "      <td>65.5</td>\n",
              "      <td>19.6560</td>\n",
              "      <td>1.56</td>\n",
              "      <td>12.60</td>\n",
              "      <td>125.5</td>\n",
              "    </tr>\n",
              "    <tr>\n",
              "      <th>2</th>\n",
              "      <td>65.0</td>\n",
              "      <td>21.0156</td>\n",
              "      <td>1.66</td>\n",
              "      <td>12.66</td>\n",
              "      <td>125.0</td>\n",
              "    </tr>\n",
              "    <tr>\n",
              "      <th>3</th>\n",
              "      <td>65.0</td>\n",
              "      <td>20.3200</td>\n",
              "      <td>1.60</td>\n",
              "      <td>12.70</td>\n",
              "      <td>125.0</td>\n",
              "    </tr>\n",
              "    <tr>\n",
              "      <th>4</th>\n",
              "      <td>66.0</td>\n",
              "      <td>19.1400</td>\n",
              "      <td>1.50</td>\n",
              "      <td>12.76</td>\n",
              "      <td>126.0</td>\n",
              "    </tr>\n",
              "  </tbody>\n",
              "</table>\n",
              "</div>"
            ],
            "text/plain": [
              "   length     Area  thickness  width  Sample Length\n",
              "0    65.3  20.8000       1.60  13.00          125.3\n",
              "1    65.5  19.6560       1.56  12.60          125.5\n",
              "2    65.0  21.0156       1.66  12.66          125.0\n",
              "3    65.0  20.3200       1.60  12.70          125.0\n",
              "4    66.0  19.1400       1.50  12.76          126.0"
            ]
          },
          "execution_count": 10,
          "metadata": {},
          "output_type": "execute_result"
        }
      ],
      "source": [
        "h = [ 125.3, 125.5, 125.0, 125.0, 126.0 ]   # Piece Height/non-gauge length\n",
        "w = [ 13.00, 12.60, 12.66, 12.70, 12.76 ]   # Piece Width\n",
        "t = [  1.60,  1.56,  1.66,  1.60,  1.50 ]   # Piece thickness\n",
        "\n",
        "l = np.add(h, -2*30)        # Piece Gauge length\n",
        "A = np.multiply(t, w)       # Piece Area in mm2\n",
        "\n",
        "Samples = pd.DataFrame({'length':l, 'Area':A, 'thickness':t, 'width':w, 'Sample Length':h})\n",
        "\n",
        "Samples"
      ]
    },
    {
      "cell_type": "markdown",
      "metadata": {},
      "source": [
        "## Data Importing, Processing and Initial Plotting"
      ]
    },
    {
      "cell_type": "code",
      "execution_count": null,
      "metadata": {},
      "outputs": [],
      "source": []
    },
    {
      "cell_type": "markdown",
      "metadata": {},
      "source": [
        "## Data Analysis and Plotting"
      ]
    },
    {
      "cell_type": "code",
      "execution_count": null,
      "metadata": {},
      "outputs": [],
      "source": []
    },
    {
      "cell_type": "markdown",
      "metadata": {},
      "source": []
    }
  ],
  "metadata": {
    "colab": {
      "provenance": []
    },
    "kernelspec": {
      "display_name": "base",
      "language": "python",
      "name": "python3"
    },
    "language_info": {
      "codemirror_mode": {
        "name": "ipython",
        "version": 3
      },
      "file_extension": ".py",
      "mimetype": "text/x-python",
      "name": "python",
      "nbconvert_exporter": "python",
      "pygments_lexer": "ipython3",
      "version": "3.9.13"
    }
  },
  "nbformat": 4,
  "nbformat_minor": 0
}
